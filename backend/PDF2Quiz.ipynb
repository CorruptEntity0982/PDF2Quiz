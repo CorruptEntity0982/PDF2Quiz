{
 "cells": [
  {
   "cell_type": "code",
   "execution_count": 1,
   "metadata": {},
   "outputs": [],
   "source": [
    "import os\n",
    "import PyPDF2 as pdf\n",
    "from langchain.document_loaders import TextLoader\n",
    "from langchain.text_splitter import RecursiveCharacterTextSplitter\n",
    "from langchain.embeddings.openai import OpenAIEmbeddings\n",
    "from langchain.vectorstores import Chroma\n",
    "from langchain.chains import RetrievalQA\n",
    "from langchain.chat_models import ChatOpenAI  # <-- Corrected import\n",
    "\n",
    "os.environ['OPENAI_API_KEY']= \"sk-proj-6BWDTDaGs4ulJSkT9S2sT3BlbkFJYKsskXdic6VLfHsDpvFJ\""
   ]
  },
  {
   "cell_type": "code",
   "execution_count": 2,
   "metadata": {},
   "outputs": [],
   "source": [
    "def getTextFromPDF()->str:\n",
    "    with open('Quiz.pdf',mode='rb') as contentFile:\n",
    "        convertedText = \"\"\n",
    "        pdf_reader = pdf.PdfReader(contentFile)\n",
    "        for i in range(0,len(pdf_reader.pages)):\n",
    "            page = pdf_reader.pages[i]\n",
    "            pageText = page.extract_text()\n",
    "            convertedText+=pageText\n",
    "        file_path = \"Loader.txt\"\n",
    "        with open(file_path, \"w+\") as file:\n",
    "            file.write(convertedText)\n",
    "            file.seek(0)\n",
    "        return file_path"
   ]
  },
  {
   "cell_type": "code",
   "execution_count": 3,
   "metadata": {},
   "outputs": [],
   "source": [
    "loader = TextLoader(getTextFromPDF())\n",
    "documents = loader.load()\n",
    "text_splitter  =  RecursiveCharacterTextSplitter(chunk_size=400,chunk_overlap=50)\n",
    "texts = text_splitter.split_documents(documents)\n",
    "embeddings = OpenAIEmbeddings()\n",
    "store = Chroma.from_documents(texts,embeddings,collection_name=\"Quiz-PDF\")"
   ]
  },
  {
   "cell_type": "code",
   "execution_count": 4,
   "metadata": {},
   "outputs": [],
   "source": [
    "llm = ChatOpenAI(temperature=0.8, model=\"gpt-3.5-turbo\")\n",
    "chain = RetrievalQA.from_chain_type(llm,retriever=store.as_retriever())"
   ]
  },
  {
   "cell_type": "code",
   "execution_count": 5,
   "metadata": {},
   "outputs": [],
   "source": [
    "prompt = \"The document consists of questions and multiple choice options, I want you to return a response in JSON format, the fomat contains question_number, question_text, Multiple choice questions and answer, for each question that you find in a document return a separate JSON in the provided format\"\n",
    "response = chain.run(prompt)"
   ]
  },
  {
   "cell_type": "code",
   "execution_count": 6,
   "metadata": {},
   "outputs": [
    {
     "name": "stdout",
     "output_type": "stream",
     "text": [
      "```json\n",
      "{\n",
      "    \"question_number\": 1,\n",
      "    \"question_text\": \"The actual energy requirement for the separation will be many times ---------Wmin\",\n",
      "    \"Multiple_choice_questions_and_answers\": {\n",
      "        \"a\": \"greater than\"\n",
      "    }\n",
      "}\n",
      "```\n",
      "\n",
      "```json\n",
      "{\n",
      "    \"question_number\": 2,\n",
      "    \"question_text\": \"The most commonly used to separate a solution that has a mixture of some desirable components and some that are not desirable.\",\n",
      "    \"Multiple_choice_questions_and_answers\": {\n",
      "        \"d\": \"reverse osmosis\"\n",
      "    }\n",
      "}\n",
      "```\n",
      "\n",
      "```json\n",
      "{\n",
      "    \"question_number\": 55,\n",
      "    \"question_text\": \"Water effluent generated in printing industry is decolourised by………………….\",\n",
      "    \"Multiple_choice_questions_and_answers\": {\n",
      "        \"\": \"Electrolytic de composition\"\n",
      "    }\n",
      "}\n",
      "```\n",
      "\n",
      "```json\n",
      "{\n",
      "    \"question_number\": 1,\n",
      "    \"question_text\": \"Major manufactured food product is ………………..(Sugar).\",\n",
      "    \"Multiple_choice_questions_and_answers\": {\n",
      "        \"\": \"Sugar\"\n",
      "    }\n",
      "}\n",
      "```\n",
      "\n",
      "```json\n",
      "{\n",
      "    \"question_number\": 2,\n",
      "    \"question_text\": \"Quality Factors in Food industry ……………………..( Appearance Factors).\",\n",
      "    \"Multiple_choice_questions_and_answers\": {\n",
      "        \"\": \"Appearance Factors\"\n",
      "    }\n",
      "}\n",
      "```\n",
      "\n",
      "```json\n",
      "{\n",
      "    \"question_number\": 3,\n",
      "    \"question_text\": \"………………..usually measured by counts of bacteria, yeast, mold, and insect.\",\n",
      "    \"Multiple_choice_questions_and_answers\": {\n",
      "        \"\": \"Sanitary Quality\"\n",
      "    }\n",
      "}\n",
      "```\n",
      "\n",
      "```json\n",
      "{\n",
      "    \"question_number\": 4,\n",
      "    \"question_text\": \"………………trends project India to emerge as the most populous country in the world in the coming decades.\",\n",
      "    \"Multiple_choice_questions_and_answers\": {\n",
      "        \"\": \"Population\"\n",
      "    }\n",
      "}\n",
      "```\n",
      "\n",
      "```json\n",
      "{\n",
      "    \"question_number\": 7,\n",
      "    \"question_text\": \"Organic substances that regulate numerous and diverse …………………..processes in the body.\",\n",
      "    \"Multiple_choice_questions_and_answers\": {\n",
      "        \"\": \"physiological\"\n",
      "    }\n",
      "}\n",
      "```\n",
      "```json\n",
      "{\n",
      "    \"question_number\": 1,\n",
      "    \"question_text\": \"The quality of carbohydrates is the real issue and it is still wise to consume quality whole grains with adequate fiber.\",\n",
      "    \"True_or_False\": \"True\"\n",
      "}\n",
      "```\n",
      "\n",
      "```json\n",
      "{\n",
      "    \"question_number\": 2,\n",
      "    \"question_text\": \"A balanced diet containing recommended servings of carbohydrates, fats and proteins will meet the RDA standards.\",\n",
      "    \"True_or_False\": \"True\"\n",
      "}\n",
      "```\n",
      "\n"
     ]
    }
   ],
   "source": [
    "print(response)"
   ]
  }
 ],
 "metadata": {
  "kernelspec": {
   "display_name": "Python 3",
   "language": "python",
   "name": "python3"
  },
  "language_info": {
   "codemirror_mode": {
    "name": "ipython",
    "version": 3
   },
   "file_extension": ".py",
   "mimetype": "text/x-python",
   "name": "python",
   "nbconvert_exporter": "python",
   "pygments_lexer": "ipython3",
   "version": "3.11.4"
  }
 },
 "nbformat": 4,
 "nbformat_minor": 2
}
