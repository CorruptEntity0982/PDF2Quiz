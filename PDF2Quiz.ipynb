{
 "cells": [
  {
   "cell_type": "code",
   "execution_count": 1,
   "metadata": {},
   "outputs": [],
   "source": [
    "import os\n",
    "import PyPDF2 as pdf\n",
    "from langchain.document_loaders import TextLoader\n",
    "from langchain.text_splitter import RecursiveCharacterTextSplitter\n",
    "from langchain.embeddings.openai import OpenAIEmbeddings\n",
    "from langchain.vectorstores import Chroma\n",
    "from langchain.chains import RetrievalQA\n",
    "from langchain.chat_models import ChatOpenAI  # <-- Corrected import\n",
    "\n",
    "os.environ['OPENAI_API_KEY']="
   ]
  },
  {
   "cell_type": "code",
   "execution_count": 2,
   "metadata": {},
   "outputs": [],
   "source": [
    "def getTextFromPDF()->str:\n",
    "    with open('Quiz.pdf',mode='rb') as contentFile:\n",
    "        convertedText = \"\"\n",
    "        pdf_reader = pdf.PdfReader(contentFile)\n",
    "        for i in range(0,len(pdf_reader.pages)):\n",
    "            page = pdf_reader.pages[i]\n",
    "            pageText = page.extract_text()\n",
    "            convertedText+=pageText\n",
    "        file_path = \"Loader.txt\"\n",
    "        with open(file_path, \"w+\") as file:\n",
    "            file.write(convertedText)\n",
    "            file.seek(0)\n",
    "        return file_path"
   ]
  },
  {
   "cell_type": "code",
   "execution_count": 3,
   "metadata": {},
   "outputs": [],
   "source": [
    "loader = TextLoader(getTextFromPDF())\n",
    "documents = loader.load()\n",
    "text_splitter  =  RecursiveCharacterTextSplitter(chunk_size=400,chunk_overlap=50)\n",
    "texts = text_splitter.split_documents(documents)\n",
    "embeddings = OpenAIEmbeddings()\n",
    "store = Chroma.from_documents(texts,embeddings,collection_name=\"Quiz-PDF\")"
   ]
  },
  {
   "cell_type": "code",
   "execution_count": null,
   "metadata": {},
   "outputs": [],
   "source": [
    "llm = ChatOpenAI(temperature=0.8, model=\"gpt-3.5-turbo\")\n",
    "chain = RetrievalQA.from_chain_type(llm,retriever=store.as_retriever())"
   ]
  },
  {
   "cell_type": "code",
   "execution_count": null,
   "metadata": {},
   "outputs": [],
   "source": [
    "prompt = \"The document consists of questions and multiple choice options, return only the questions from the document in a bullet points\"\n",
    "response = chain.run(prompt)"
   ]
  },
  {
   "cell_type": "code",
   "execution_count": null,
   "metadata": {},
   "outputs": [],
   "source": [
    "print(response)"
   ]
  }
 ],
 "metadata": {
  "kernelspec": {
   "display_name": "Python 3",
   "language": "python",
   "name": "python3"
  },
  "language_info": {
   "codemirror_mode": {
    "name": "ipython",
    "version": 3
   },
   "file_extension": ".py",
   "mimetype": "text/x-python",
   "name": "python",
   "nbconvert_exporter": "python",
   "pygments_lexer": "ipython3",
   "version": "3.11.4"
  }
 },
 "nbformat": 4,
 "nbformat_minor": 2
}
